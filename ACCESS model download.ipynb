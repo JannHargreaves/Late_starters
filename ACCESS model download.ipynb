{
 "cells": [
  {
   "cell_type": "markdown",
   "metadata": {},
   "source": [
    "## Datasets of ACCESS\n",
    "\n",
    "netcdf located - /g/data/rr3/publications/CMIP5/output1/CSIRO-BOM/ACCESS1-0/rcp45/mon/atmos/Amon/r1i1p1/files/tasmax_20120115/tasmax_Amon_ACCESS1-0_rcp45_r1i1p1_200601-210012.nc\n",
    "\n",
    "netcdf located - /g/data/rr3/publications/CMIP5/output1/CSIRO-BOM/ACCESS1-0/rcp85/mon/atmos/Amon/r1i1p1/files/tasmax_20120115/tasmax_Amon_ACCESS1-0_rcp85_r1i1p1_200601-210012.nc\n",
    "\n",
    "**Looking at the rcp4.5 and rcp 8.5**"
   ]
  },
  {
   "cell_type": "code",
   "execution_count": 1,
   "metadata": {},
   "outputs": [],
   "source": [
    "import numpy as np\n",
    "import xarray as xr"
   ]
  },
  {
   "cell_type": "code",
   "execution_count": 2,
   "metadata": {},
   "outputs": [],
   "source": [
    "rcp45 =xr.open_dataset('/g/data/rr3/publications/CMIP5/output1/CSIRO-BOM/ACCESS1-0/rcp45/mon/atmos/Amon/r1i1p1/files/tasmax_20120115/tasmax_Amon_ACCESS1-0_rcp45_r1i1p1_200601-210012.nc')\n",
    "rcp85=xr.open_dataset('/g/data/rr3/publications/CMIP5/output1/CSIRO-BOM/ACCESS1-0/rcp85/mon/atmos/Amon/r1i1p1/files/tasmax_20120115/tasmax_Amon_ACCESS1-0_rcp85_r1i1p1_200601-210012.nc')"
   ]
  },
  {
   "cell_type": "code",
   "execution_count": 3,
   "metadata": {},
   "outputs": [
    {
     "data": {
      "text/plain": [
       "<xarray.Dataset>\n",
       "Dimensions:    (bnds: 2, lat: 145, lon: 192, time: 1140)\n",
       "Coordinates:\n",
       "  * time       (time) datetime64[ns] 2006-01-16T12:00:00 ... 2100-12-16T12:00:00\n",
       "  * lat        (lat) float64 -90.0 -88.75 -87.5 -86.25 ... 86.25 87.5 88.75 90.0\n",
       "  * lon        (lon) float64 0.0 1.875 3.75 5.625 ... 352.5 354.4 356.2 358.1\n",
       "    height     float64 ...\n",
       "Dimensions without coordinates: bnds\n",
       "Data variables:\n",
       "    time_bnds  (time, bnds) float64 ...\n",
       "    lat_bnds   (lat, bnds) float64 ...\n",
       "    lon_bnds   (lon, bnds) float64 ...\n",
       "    tasmax     (time, lat, lon) float32 251.81996 251.81996 ... 259.68976\n",
       "    tos_degC   (time, lat, lon) float32 -21.330032 -21.330032 ... -13.460236\n",
       "Attributes:\n",
       "    institution:            CSIRO (Commonwealth Scientific and Industrial Res...\n",
       "    institute_id:           CSIRO-BOM\n",
       "    experiment_id:          rcp45\n",
       "    source:                 ACCESS1-0 2011. Atmosphere: AGCM v1.0 (N96 grid-p...\n",
       "    model_id:               ACCESS1-0\n",
       "    forcing:                GHG, Oz, SA, Sl, Vl, BC, OC, (GHG = CO2, N2O, CH4...\n",
       "    parent_experiment_id:   historical\n",
       "    parent_experiment_rip:  r1i1p1\n",
       "    branch_time:            732311.0\n",
       "    contact:                The ACCESS wiki: http://wiki.csiro.au/confluence/...\n",
       "    history:                CMIP5 compliant file produced from raw ACCESS mod...\n",
       "    references:             See http://wiki.csiro.au/confluence/display/ACCES...\n",
       "    initialization_method:  1\n",
       "    physics_version:        1\n",
       "    tracking_id:            fa6bbc5c-d938-4ea7-8e1b-0095ae8a5609\n",
       "    version_number:         v20120115\n",
       "    product:                output\n",
       "    experiment:             RCP4.5\n",
       "    frequency:              mon\n",
       "    creation_date:          2012-01-25T07:16:45Z\n",
       "    Conventions:            CF-1.4\n",
       "    project_id:             CMIP5\n",
       "    table_id:               Table Amon (27 April 2011) 9c851218e3842df9a62ef3...\n",
       "    title:                  ACCESS1-0 model output prepared for CMIP5 RCP4.5\n",
       "    parent_experiment:      historical\n",
       "    modeling_realm:         atmos\n",
       "    realization:            1\n",
       "    cmor_version:           2.8.0"
      ]
     },
     "execution_count": 3,
     "metadata": {},
     "output_type": "execute_result"
    }
   ],
   "source": [
    "tasmax=rcp45.tasmax\n",
    "tasmax_rcp45=rcp45.tasmax - 273.5\n",
    "tasmax_rcp85=rcp85.tasmax - 273.5\n",
    "\n",
    "rcp45_tempdegC = rcp45.tasmax - 273.15\n",
    "rcp45['tos_degC'] = rcp45_tempdegC\n",
    "rcp45\n",
    "#rcp45.close()"
   ]
  },
  {
   "cell_type": "code",
   "execution_count": 4,
   "metadata": {},
   "outputs": [
    {
     "name": "stdout",
     "output_type": "stream",
     "text": [
      "For Burtundy:\n",
      "142.26827°E becomes   142.5\n",
      "33.7464°S becomes   -33.75\n",
      "For Morgan:\n",
      "139.688°E becomes   140.625\n",
      "34.02110°S becomes   -33.75\n",
      "For Yarrawonga:\n",
      "145.994°E becomes   146.25\n",
      "36.0114°S becomes   -36.25\n",
      "For Euston:\n",
      "142.7586°E becomes   142.5\n",
      "34.5996°S becomes   -35.0\n",
      "For Torrumbarry:\n",
      "144.46466°E becomes   144.375\n",
      "35.942574°S becomes   -36.25\n"
     ]
    }
   ],
   "source": [
    "# get the coordinates to use for Burtundy\n",
    "print('For Burtundy:')\n",
    "print('142.26827°E becomes  ', rcp45.sel(lon=142.26827, method='nearest').lon.values)\n",
    "print('33.7464°S becomes  ', rcp45.sel(lat=-33.7464, method='nearest').lat.values)\n",
    "\n",
    "print('For Morgan:')\n",
    "print('139.688°E becomes  ', rcp45.sel(lon=139.688, method='nearest').lon.values)\n",
    "print('34.02110°S becomes  ', rcp45.sel(lat=-34.02110, method='nearest').lat.values)\n",
    "\n",
    "print('For Yarrawonga:')\n",
    "print('145.994°E becomes  ', rcp45.sel(lon=145.994, method='nearest').lon.values)\n",
    "print('36.0114°S becomes  ', rcp45.sel(lat=-36.0114, method='nearest').lat.values)\n",
    "\n",
    "print('For Euston:')\n",
    "print('142.7586°E becomes  ', rcp45.sel(lon=142.7586, method='nearest').lon.values)\n",
    "print('34.5996°S becomes  ', rcp45.sel(lat=-34.5996, method='nearest').lat.values)\n",
    "\n",
    "print('For Torrumbarry:')\n",
    "print('144.46466°E becomes  ', rcp45.sel(lon=144.46466, method='nearest').lon.values)\n",
    "print('35.942574°S becomes  ', rcp45.sel(lat=-35.942574, method='nearest').lat.values)\n",
    "\n",
    "#point = rcp45.where((rcp45.lon == 145) & (rcp45.lat == -38))\n",
    "#np.savetxt('dates.txt', (point.time), delimiter=',', fmt='%s')\n",
    "#np.savetxt('tmax.txt',(point.tmax[:,1,1]), delimiter=',', fmt='%4f')\n",
    "#subprocess.call(\"paste -d' ' dates.txt tmax.txt > %s.txt\" % final_file_name, shell=True)"
   ]
  },
  {
   "cell_type": "code",
   "execution_count": 5,
   "metadata": {},
   "outputs": [],
   "source": [
    "tasmax45_Burtundy = tasmax_rcp45.sel(lat=-33.7464, lon=142.26827, method='nearest')\n",
    "tasmax85_Burtundy = tasmax_rcp85.sel(lat=-33.7464, lon=142.26827, method='nearest')\n",
    "\n",
    "tasmax45_Morgan = tasmax_rcp45.sel(lat=-34.02110, lon=139.688, method='nearest')\n",
    "tasmax85_Morgan = tasmax_rcp85.sel(lat=-34.02110, lon=139.688, method='nearest')\n",
    "\n",
    "tasmax45_Yarrawonga = tasmax_rcp45.sel(lat=-36.0114, lon=145.994, method='nearest')\n",
    "tasmax85_Yarrawonga = tasmax_rcp85.sel(lat=-36.0114, lon=145.994, method='nearest')\n",
    "\n",
    "tasmax45_Euston = tasmax_rcp45.sel(lat=-34.5996, lon=142.7586, method='nearest')\n",
    "tasmax85_Euston = tasmax_rcp85.sel(lat=-34.5996, lon=142.7586, method='nearest')\n",
    "\n",
    "tasmax45_Torrumbarry = tasmax_rcp45.sel(lat=-35.942574, lon=144.46466, method='nearest')\n",
    "tasmax85_Torrumbarry = tasmax_rcp85.sel(lat=-35.942574, lon=144.46466, method='nearest')\n",
    "\n",
    "tasmax45_Torrumbarry1=tasmax45_Torrumbarry.to_pandas()\n",
    "#from netCDF4 import Dataset\n",
    "#tasmax45_Torrumbarry.to_netcdf('/home/151/jh8194/dea-notebooks/tasmax45_Torrumbarry.nc')\n"
   ]
  },
  {
   "cell_type": "code",
   "execution_count": 7,
   "metadata": {},
   "outputs": [],
   "source": [
    "dc= {'tasmax45_Euston':0, 'tasmax45_Torrumbarry':1,'tasmax45_Morgan':2,'tasmax45_Yarrawonga':3, 'tasmax45_Burtundy':4}\n",
    "Arr=np.zeros((1140,5,1))\n",
    "\n",
    "#for j in range(len(dc)):\n",
    "#Predictions\n"
   ]
  },
  {
   "cell_type": "code",
   "execution_count": 10,
   "metadata": {},
   "outputs": [],
   "source": [
    "Predictions =xr.open_dataset('/home/151/jh8194/dea-notebooks/tasmax45_Torrumbarry.nc')\n",
    "tasmax45_Torrumbarry\n",
    "\n",
    "Predictions['tasmax_85_Torrumbarry']=tasmax85_Torrumbarry\n",
    "Predictions['tasmax_85_Euston']=tasmax85_Euston\n",
    "Predictions['tasmax_85_Yarrawonga']=tasmax85_Yarrawonga\n",
    "Predictions['tasmax_85_Morgan']=tasmax85_Morgan\n",
    "Predictions['tasmax_85_Burtundy']=tasmax85_Burtundy\n",
    "Predictions['tasmax_45_Torrumbarry']=tasmax45_Torrumbarry\n",
    "Predictions['tasmax_45_Euston']=tasmax45_Euston\n",
    "Predictions['tasmax_45_Yarrawonga']=tasmax45_Yarrawonga\n",
    "Predictions['tasmax_45_Morgan']=tasmax45_Morgan\n",
    "Predictions['tasmax_45_Burtundy']=tasmax45_Burtundy\n",
    "import pandas\n",
    "del Predictions ['lat']\n",
    "del Predictions ['lon']\n",
    "del Predictions ['tasmax']\n",
    "del Predictions ['height']\n",
    "Predictions\n",
    "#Predictions.to_dataframe('/home/151/jh8194/Predictions.nc')\n",
    "#np.save('Predictions')\n",
    "Predictions_data=Predictions.to_array()\n",
    "Predictions_data1=Predictions_data.to_pandas()\n",
    "Predictions_data1.to_csv('/home/151/jh8194/Predictions_data1.csv')"
   ]
  },
  {
   "cell_type": "code",
   "execution_count": 8,
   "metadata": {},
   "outputs": [],
   "source": [
    "restrict_Burtundy_45=tasmax45_Burtundy.sel(time=slice('2006','2016'))\n",
    "restrict_Burtundy_85=tasmax85_Burtundy.sel(time=slice('2006','2016'))\n",
    "restrict_Morgan_45=tasmax45_Morgan.sel(time=slice('2006','2016'))\n",
    "restrict_Morgan_85=tasmax85_Morgan.sel(time=slice('2006','2016'))\n",
    "restrict_Morgan_85=restrict_Morgan_85[0:131,]\n",
    "restrict_Morgan_45=restrict_Morgan_45[0:131,]\n",
    "restrict_Yarrawonga_45=tasmax45_Yarrawonga.sel(time=slice('2006','2016'))\n",
    "restrict_Yarrawonga_85=tasmax85_Yarrawonga.sel(time=slice('2006','2016'))\n",
    "restrict_Euston_45=tasmax45_Euston.sel(time=slice('2006','2016'))\n",
    "restrict_Euston_85=tasmax85_Euston.sel(time=slice('2006','2016'))\n",
    "restrict_Euston_85=restrict_Euston_85[0:131,]\n",
    "restrict_Euston_45=restrict_Euston_45[0:131,]\n",
    "restrict_Torrumbarry_45=tasmax45_Torrumbarry.sel(time=slice('2006','2016'))\n",
    "restrict_Torrumbarry_85=tasmax85_Torrumbarry.sel(time=slice('2006','2016'))\n",
    "restrict_Torrumbarry_85=restrict_Torrumbarry_85[0:131,]\n",
    "restrict_Torrumbarry_45=restrict_Torrumbarry_45[0:131,]\n"
   ]
  },
  {
   "cell_type": "code",
   "execution_count": 9,
   "metadata": {},
   "outputs": [],
   "source": [
    "#lons = np.array(rcp45.lon)\n",
    "#lats = np.array(rcp45.lat)\n",
    "#rcp45_tempdegC = rcp45.tasmax - 273.15\n",
    "#rcp45['tos_degC'] = rcp45_tempdegC\n",
    "\n",
    "#tasmax_rcp45 = np.array(rcp45.tos_degC[0])"
   ]
  },
  {
   "cell_type": "code",
   "execution_count": 10,
   "metadata": {},
   "outputs": [],
   "source": [
    "#tasmax45_Burtundy.time"
   ]
  },
  {
   "cell_type": "markdown",
   "metadata": {},
   "source": [
    "Import the gridded dataset in order to deteremine whether there is any relationship between the gridded data, and the ACCESS projected data"
   ]
  },
  {
   "cell_type": "code",
   "execution_count": 11,
   "metadata": {
    "scrolled": true
   },
   "outputs": [],
   "source": [
    "import pandas as pd\n",
    "pretty_gridded_data = pd.read_csv(\"/home/151/jh8194/dea-notebooks/02_DEA_datasets/Gridded_datasets.csv\")"
   ]
  },
  {
   "cell_type": "code",
   "execution_count": 12,
   "metadata": {},
   "outputs": [],
   "source": [
    "from numpy import genfromtxt\n",
    "gridded_data = genfromtxt('/home/151/jh8194/dea-notebooks/02_DEA_datasets/Gridded_datasets.csv',skip_header=1, delimiter=',')"
   ]
  },
  {
   "cell_type": "code",
   "execution_count": 13,
   "metadata": {},
   "outputs": [
    {
     "data": {
      "text/plain": [
       "array([34.23242188, 31.11621094, 29.49902344, 20.11035156, 17.18652344,\n",
       "       14.703125  , 14.53125   , 17.45898438, 21.32324219, 24.99414063,\n",
       "       28.23632813, 30.24707031, 32.02246094, 34.03613281, 28.20898438,\n",
       "       24.51953125, 19.27734375, 13.6328125 , 13.34082031, 17.65917969,\n",
       "       19.92285156, 24.52441406, 29.52636719, 30.25683594, 32.93164063,\n",
       "       29.02636719, 30.30859375, 22.19042969, 17.88671875, 16.26269531,\n",
       "       13.62109375, 14.22851563, 20.67285156, 24.984375  , 25.36621094,\n",
       "       27.06738281, 34.6015625 , 32.85644531, 27.80859375, 22.66992188,\n",
       "       19.27734375, 14.203125  , 14.12109375, 16.93945313, 19.75292969,\n",
       "       22.88378906, 31.46582031, 30.796875  , 33.44238281, 32.03613281,\n",
       "       27.24902344, 23.36035156, 18.68652344, 14.25292969, 13.48144531,\n",
       "       13.859375  , 16.87304688, 21.43359375, 25.55566406, 27.45703125,\n",
       "       30.7421875 , 28.55566406, 25.32910156, 21.94042969, 16.91699219,\n",
       "       15.91308594, 14.52148438, 17.50878906, 20.28320313, 22.87402344,\n",
       "       27.52636719, 29.17675781, 31.87207031, 30.18554688, 24.65917969,\n",
       "       23.12011719, 18.05664063, 14.78320313, 14.38085938, 15.31933594,\n",
       "       19.79296875, 22.85351563, 28.41601563, 30.3671875 , 33.54199219,\n",
       "       32.73632813, 28.68945313, 24.15039063, 18.58691406, 15.41308594,\n",
       "       14.80078125, 15.96875   , 21.1328125 , 22.90429688, 26.0859375 ,\n",
       "       30.98730469, 34.27246094, 33.265625  , 28.69921875, 22.40039063,\n",
       "       19.41699219, 14.78320313, 13.97070313, 16.65917969, 20.56347656,\n",
       "       26.13378906, 28.97558594, 31.12695313, 30.82226563, 33.46582031,\n",
       "       26.86914063, 21.9296875 , 18.31738281, 14.19335938, 13.25097656,\n",
       "       14.67871094, 19.67285156, 28.97363281, 28.25585938, 33.02734375,\n",
       "       31.93164063, 32.14648438, 30.87890625, 25.15039063, 18.6171875 ,\n",
       "       13.58300781, 13.890625  , 15.47851563, 16.8828125 , 20.35351563,\n",
       "       26.34570313])"
      ]
     },
     "execution_count": 13,
     "metadata": {},
     "output_type": "execute_result"
    }
   ],
   "source": [
    "Burtundy_rean_gridded=gridded_data[:,1]\n",
    "Yarrawonga_rean_gridded=gridded_data[:,2]\n",
    "Morgan_rean_gridded=gridded_data[0:131,3]\n",
    "Torrumbarry_rean_gridded=gridded_data[0:131,4]\n",
    "Euston_rean_gridded=gridded_data[0:131,5]\n",
    "Torrumbarry_rean_gridded\n"
   ]
  },
  {
   "cell_type": "markdown",
   "metadata": {},
   "source": [
    "**Now have Burtundy_gridded_data and the restrict_Burtundy datasets - use the two to determine the correlation between the two of them**\n",
    "        "
   ]
  },
  {
   "cell_type": "code",
   "execution_count": 14,
   "metadata": {},
   "outputs": [],
   "source": [
    "#Morgan_rean_gridded.shape\n",
    "#restrict_Morgan_45"
   ]
  },
  {
   "cell_type": "code",
   "execution_count": 15,
   "metadata": {},
   "outputs": [
    {
     "data": {
      "text/plain": [
       "<Figure size 640x480 with 1 Axes>"
      ]
     },
     "metadata": {},
     "output_type": "display_data"
    }
   ],
   "source": [
    "#Burtundy_gridded_data - both from 2006-2016\n",
    "#restrict_Burtundy\n",
    "\n",
    "from scipy import stats\n",
    "import matplotlib.pyplot as plt\n",
    "from sklearn.linear_model import LinearRegression\n",
    "\n",
    "import numpy as np\n",
    "x=Burtundy_rean_gridded\n",
    "y=restrict_Burtundy_45\n",
    "\n",
    "#gradient,intercept,r_value,p_value,std_err=stats.linregress(x,y)\n",
    "\n",
    "#print ('Gradient and intercept'),gradient,intercept\n",
    "#print ('R-squared'),r_value**2\n",
    "#print ('p-value'),p_value\n",
    "\n",
    "a=stats.pearsonr(x,y)\n",
    "\n",
    "#plt.scatter(x,y)\n",
    "#plt.show\n",
    "\n",
    "model = LinearRegression(fit_intercept=True)\n",
    "model.fit(x[:, np.newaxis], y)\n",
    "\n",
    "xfit = np.linspace(15, 40, 100)\n",
    "yfit = model.predict(xfit[:, np.newaxis])\n",
    "\n",
    "# plot\n",
    "plt.scatter(x, y)\n",
    "plt.plot(xfit, yfit);\n",
    "plt.show()"
   ]
  },
  {
   "cell_type": "code",
   "execution_count": 16,
   "metadata": {},
   "outputs": [
    {
     "name": "stdout",
     "output_type": "stream",
     "text": [
      "YARRAWONGA- the rcp4.5 and observations: (0.9553497677680917, 1.0759400961692955e-70)\n",
      "YARRAWONGA- the rcp8.5 and observations: (0.9429133740607107, 6.215266526101412e-64)\n",
      "\n",
      "Morgan- the rcp4.5 and observations: (0.9431453833403326, 1.4514283792813445e-63)\n",
      "Morgan- the rcp8.5 and observations: (0.9272828256728151, 6.801745835848128e-57)\n",
      "\n",
      "Torrumbarry- the rcp4.5 and observations: (0.9536886863940457, 3.6564236083655026e-69)\n",
      "Torrumbarry- the rcp8.5 and observations: (0.9414178445244403, 9.465383375095255e-63)\n",
      "\n",
      "Euston- the rcp4.5 and observations: (0.9472945986073046, 1.2500797882146593e-65)\n",
      "Euston- the rcp8.5 and observations: (0.932380003832183, 7.388033226585309e-59)\n",
      "\n",
      "Burtundy- the rcp4.5 and observations: (0.9430464405219409, 5.363584008432769e-64)\n",
      "Burtundy- the rcp8.5 and observations: (0.929463327242551, 3.7647101330314574e-58)\n",
      "\n"
     ]
    }
   ],
   "source": [
    "Burtx=Burtundy_rean_gridded\n",
    "Burt45=restrict_Burtundy_45\n",
    "Burt85=restrict_Burtundy_85\n",
    "\n",
    "Yarrx=Yarrawonga_rean_gridded\n",
    "yar45=restrict_Yarrawonga_45\n",
    "yar85=restrict_Yarrawonga_85\n",
    "\n",
    "Morx=Morgan_rean_gridded\n",
    "Mor45=restrict_Morgan_45\n",
    "Mor85=restrict_Morgan_85\n",
    "\n",
    "Torrx=Torrumbarry_rean_gridded\n",
    "Torr45=restrict_Torrumbarry_45\n",
    "Torr85=restrict_Torrumbarry_85\n",
    "\n",
    "Eustx=Euston_rean_gridded\n",
    "Eust45=restrict_Euston_45\n",
    "Eust85=restrict_Euston_85\n",
    "#gradient,intercept,r_value,p_value,std_err=stats.linregress(x,y)\n",
    "\n",
    "#print ('Gradient and intercept'),gradient,intercept\n",
    "#print ('R-squared'),r_value**2\n",
    "#print ('p-value'),p_value\n",
    "\n",
    "Yarr45_corr=stats.pearsonr(Yarrx,yar45)\n",
    "Yarr85_corr=stats.pearsonr(Yarrx,yar85)\n",
    "print('YARRAWONGA- the rcp4.5 and observations:',  Yarr45_corr)\n",
    "print('YARRAWONGA- the rcp8.5 and observations:', Yarr85_corr)\n",
    "print () \n",
    "Mor45_corr=stats.pearsonr(Morx,Mor45)\n",
    "Mor85_corr=stats.pearsonr(Morx,Mor85)\n",
    "print('Morgan- the rcp4.5 and observations:',  Mor45_corr)\n",
    "print('Morgan- the rcp8.5 and observations:', Mor85_corr)\n",
    "print () \n",
    "Torr45_corr=stats.pearsonr(Torrx,Torr45)\n",
    "Torr85_corr=stats.pearsonr(Torrx,Torr85)\n",
    "print('Torrumbarry- the rcp4.5 and observations:',  Torr45_corr)\n",
    "print('Torrumbarry- the rcp8.5 and observations:', Torr85_corr)\n",
    "print () \n",
    "Eust45_corr=stats.pearsonr(Eustx,Eust45)\n",
    "Eust85_corr=stats.pearsonr(Eustx,Eust85)\n",
    "print('Euston- the rcp4.5 and observations:', Eust45_corr)\n",
    "print('Euston- the rcp8.5 and observations:', Eust85_corr)\n",
    "print () \n",
    "\n",
    "Burt45_corr=stats.pearsonr(Burtx,Burt45)\n",
    "Burt85_corr=stats.pearsonr(Burtx,Burt85)\n",
    "print('Burtundy- the rcp4.5 and observations:', Burt45_corr)\n",
    "print('Burtundy- the rcp8.5 and observations:', Burt85_corr)\n",
    "print () "
   ]
  },
  {
   "cell_type": "code",
   "execution_count": null,
   "metadata": {},
   "outputs": [],
   "source": []
  }
 ],
 "metadata": {
  "kernelspec": {
   "display_name": "Python [default]",
   "language": "python",
   "name": "python3"
  },
  "language_info": {
   "codemirror_mode": {
    "name": "ipython",
    "version": 3
   },
   "file_extension": ".py",
   "mimetype": "text/x-python",
   "name": "python",
   "nbconvert_exporter": "python",
   "pygments_lexer": "ipython3",
   "version": "3.6.6"
  }
 },
 "nbformat": 4,
 "nbformat_minor": 2
}
